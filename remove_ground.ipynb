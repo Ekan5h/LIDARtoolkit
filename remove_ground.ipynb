{
 "cells": [
  {
   "cell_type": "markdown",
   "metadata": {},
   "source": [
    "# removeGround() :\n",
    "\n",
    "Following is the implementation of remove ground function on a point cloud stored in csv format.\n",
    "\n",
    "removeGround takes list like objects, resolution and error_margin as arguments.\n",
    "\n",
    "### Working:\n",
    "First, all the points are asigned a grid cell of a uniform grid in the x-y plane. Minimum z value in each cell is found and all the points below [z = z_min + error_margin] are removed.\n",
    "\n",
    "Requirements:\n",
    "    -pandas\n",
    "    -pptk"
   ]
  },
  {
   "cell_type": "code",
   "execution_count": 37,
   "metadata": {},
   "outputs": [],
   "source": [
    "from LiDARtoolkit import *\n",
    "import pandas\n",
    "import pptk"
   ]
  },
  {
   "cell_type": "code",
   "execution_count": 15,
   "metadata": {},
   "outputs": [],
   "source": [
    "data = pandas.read_csv(\"dataset.csv\")"
   ]
  },
  {
   "cell_type": "code",
   "execution_count": 16,
   "metadata": {},
   "outputs": [],
   "source": [
    "#Using default resolution and error_margin\n",
    "data_default = removeGround(data.values)\n",
    "\n",
    "#Using custom resolution and error_margin\n",
    "data_custom = removeGround(data.values, bin_size=0.0625, error_limit=0.2)\n",
    "\n",
    "# Change the resolution and error_margin according to the computation power you have\n",
    "# and the quality of details you want."
   ]
  },
  {
   "cell_type": "code",
   "execution_count": null,
   "metadata": {},
   "outputs": [],
   "source": [
    "#Visualising the data\n",
    "pptk.viewer(data_default)\n",
    "pptk.viewer(data_custom)"
   ]
  }
 ],
 "metadata": {
  "kernelspec": {
   "display_name": "Python 3",
   "language": "python",
   "name": "python3"
  },
  "language_info": {
   "codemirror_mode": {
    "name": "ipython",
    "version": 3
   },
   "file_extension": ".py",
   "mimetype": "text/x-python",
   "name": "python",
   "nbconvert_exporter": "python",
   "pygments_lexer": "ipython3",
   "version": "3.5.2"
  }
 },
 "nbformat": 4,
 "nbformat_minor": 2
}
